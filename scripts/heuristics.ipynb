{
 "cells": [
  {
   "cell_type": "code",
   "execution_count": 61,
   "metadata": {},
   "outputs": [],
   "source": [
    "import matplotlib.pyplot as plt\n",
    "import cv2\n",
    "import numpy as np\n",
    "import math"
   ]
  },
  {
   "cell_type": "code",
   "execution_count": 28,
   "metadata": {},
   "outputs": [],
   "source": [
    "img = cv2.imread('../data/data_png_CROHME_training_2011/formulaire001-equation031.png')"
   ]
  },
  {
   "cell_type": "code",
   "execution_count": 35,
   "metadata": {},
   "outputs": [],
   "source": [
    "ret,thresh = cv2.threshold(img,127,255,cv2.THRESH_BINARY_INV)"
   ]
  },
  {
   "cell_type": "code",
   "execution_count": 36,
   "metadata": {},
   "outputs": [
    {
     "data": {
      "text/plain": [
       "<matplotlib.image.AxesImage at 0x11dd56048>"
      ]
     },
     "execution_count": 36,
     "metadata": {},
     "output_type": "execute_result"
    },
    {
     "data": {
      "image/png": "[encoded data removed]",
      "text/plain": [
       "<Figure size 432x288 with 1 Axes>"
      ]
     },
     "metadata": {
      "needs_background": "light"
     },
     "output_type": "display_data"
    }
   ],
   "source": [
    "plt.imshow(thresh)"
   ]
  },
  {
   "cell_type": "code",
   "execution_count": 46,
   "metadata": {},
   "outputs": [],
   "source": [
    "file = open('../data/segmented/data_png_CROHME_training_2011/formulaire001-equation031/coords.txt')"
   ]
  },
  {
   "cell_type": "code",
   "execution_count": 47,
   "metadata": {},
   "outputs": [
    {
     "name": "stdout",
     "output_type": "stream",
     "text": [
      "4,300,220,28\n",
      "\n",
      "7,94,146,143\n",
      "\n",
      "52,400,121,117\n",
      "\n",
      "369,194,139,108\n",
      "\n",
      "542,90,62,106\n",
      "\n"
     ]
    }
   ],
   "source": [
    "coords = []\n",
    "for line in file:\n",
    "    c = line.strip().split(',')\n",
    "    c = [int(elem) for elem in c]\n",
    "    coords.append(c)"
   ]
  },
  {
   "cell_type": "code",
   "execution_count": 50,
   "metadata": {},
   "outputs": [],
   "source": [
    "coords = np.array(coords)"
   ]
  },
  {
   "cell_type": "markdown",
   "metadata": {},
   "source": [
    "# Centroids of all the components"
   ]
  },
  {
   "cell_type": "code",
   "execution_count": 51,
   "metadata": {},
   "outputs": [],
   "source": [
    "centroids = np.zeros((coords.shape[0],2))\n",
    "centroids[:,0] = coords[:, 0] + (0.5* coords[:,2])\n",
    "centroids[:,1] = coords[:,1] + (0.5* coords[:,3])"
   ]
  },
  {
   "cell_type": "code",
   "execution_count": 60,
   "metadata": {},
   "outputs": [
    {
     "name": "stdout",
     "output_type": "stream",
     "text": [
      "plot points completed\n"
     ]
    },
    {
     "data": {
      "text/plain": [
       "<matplotlib.image.AxesImage at 0x1206b6400>"
      ]
     },
     "execution_count": 60,
     "metadata": {},
     "output_type": "execute_result"
    },
    {
     "data": {
      "image/png": "[encoded data removed]",
      "text/plain": [
       "<Figure size 432x288 with 1 Axes>"
      ]
     },
     "metadata": {
      "needs_background": "light"
     },
     "output_type": "display_data"
    }
   ],
   "source": [
    "## plot point on image\n",
    "## plot point on image\n",
    "for i in range(len(centroids)):\n",
    "    cx,cy = centroids[i][0], centroids[i][1]\n",
    "    pid=i\n",
    "    cv2.circle(thresh,(int(cx),int(cy)),10,(255,255,255),-11)\n",
    "    cv2.circle(thresh,(int(cx),int(cy)),11,(0,0,255),1) # draw circle\n",
    "    cv2.ellipse(thresh, (int(cx),int(cy)), (10,10), 0, 0, 90,(0,0,255),-1 )\n",
    "    cv2.ellipse(thresh, (int(cx),int(cy)), (10,10), 0, 180, 270,(0,0,255),-1 )\n",
    "    cv2.circle(thresh,(int(cx),int(cy)),1,(0,255,0),1) # draw center\n",
    "print('plot points completed')\n",
    "plt.imshow(thresh)"
   ]
  },
  {
   "cell_type": "markdown",
   "metadata": {},
   "source": [
    "# Heuristics - Fractions\n",
    "\n",
    "If angle is -ve, the curr is above prev"
   ]
  },
  {
   "cell_type": "code",
   "execution_count": 64,
   "metadata": {},
   "outputs": [],
   "source": [
    "angles= []\n",
    "for i in range(1, len(centroids)):\n",
    "    prev = centroids[i-1]\n",
    "    curr = centroids[i]\n",
    "    angle = math.degrees(math.atan2(curr[1]-prev[1], curr[0]-prev[0]))\n",
    "    angles.append(angle)\n",
    "angles = np.array(angles) "
   ]
  },
  {
   "cell_type": "code",
   "execution_count": 65,
   "metadata": {},
   "outputs": [
    {
     "data": {
      "text/plain": [
       "array([-102.89595257,   83.67053981,  -32.850554  ,  -37.97805999])"
      ]
     },
     "execution_count": 65,
     "metadata": {},
     "output_type": "execute_result"
    }
   ],
   "source": [
    "angles"
   ]
  }
 ],
 "metadata": {
  "kernelspec": {
   "display_name": "Python 3",
   "language": "python",
   "name": "python3"
  },
  "language_info": {
   "codemirror_mode": {
    "name": "ipython",
    "version": 3
   },
   "file_extension": ".py",
   "mimetype": "text/x-python",
   "name": "python",
   "nbconvert_exporter": "python",
   "pygments_lexer": "ipython3",
   "version": "3.7.0"
  }
 },
 "nbformat": 4,
 "nbformat_minor": 2
}
