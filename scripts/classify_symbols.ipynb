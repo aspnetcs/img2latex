{
 "cells": [
  {
   "cell_type": "code",
   "execution_count": 45,
   "metadata": {},
   "outputs": [],
   "source": [
    "from sklearn.svm import SVC\n",
    "from sklearn.naive_bayes import MultinomialNB\n",
    "from sklearn.ensemble import RandomForestClassifier\n",
    "from sklearn.linear_model import LogisticRegression\n",
    "import numpy as np\n",
    "import matplotlib.image as mpimg\n",
    "import os\n",
    "from sklearn.model_selection import train_test_split\n",
    "from sklearn.metrics import classification_report\n",
    "import pickle"
   ]
  },
  {
   "cell_type": "code",
   "execution_count": 2,
   "metadata": {},
   "outputs": [],
   "source": [
    "def read_and_preprocess(file):\n",
    "    img = mpimg.imread(file)\n",
    "    return np.reshape(img, -1)"
   ]
  },
  {
   "cell_type": "code",
   "execution_count": 3,
   "metadata": {},
   "outputs": [],
   "source": [
    "def get_data():\n",
    "    PATH = '../data/symbols/extracted_images/'\n",
    "    labels = os.listdir(PATH)\n",
    "    classes=[]\n",
    "    data=[]\n",
    "    for label in labels:\n",
    "        print(label)\n",
    "        folder=PATH+label+\"/\"\n",
    "        images= os.listdir(folder)\n",
    "        for image in images:\n",
    "            img = read_and_preprocess(folder+image)\n",
    "            data.append(img)\n",
    "            classes.append(label)\n",
    "    return data, classes\n",
    "    "
   ]
  },
  {
   "cell_type": "code",
   "execution_count": 6,
   "metadata": {},
   "outputs": [
    {
     "name": "stdout",
     "output_type": "stream",
     "text": [
      "beta\n",
      "pm\n",
      "Delta\n",
      "gamma\n",
      "infty\n",
      "rightarrow\n",
      "div\n",
      "gt\n",
      "forward_slash\n",
      "leq\n",
      "mu\n",
      "exists\n",
      "in\n",
      "times\n",
      "sin\n",
      "R\n",
      "u\n",
      "9\n",
      "0\n",
      "{\n",
      "7\n",
      "i\n",
      "N\n",
      "G\n",
      "+\n",
      ",\n",
      "6\n",
      "z\n",
      "}\n",
      "1\n",
      "8\n",
      "T\n",
      "S\n",
      "cos\n",
      "A\n",
      "-\n",
      "f\n",
      "o\n",
      "H\n",
      "sigma\n",
      "sqrt\n",
      "pi\n",
      "int\n",
      "sum\n",
      "lim\n",
      "lambda\n",
      "neq\n",
      "log\n",
      "ldots\n",
      "forall\n",
      "lt\n",
      "theta\n",
      "ascii_124\n",
      "M\n",
      "!\n",
      "alpha\n",
      "j\n",
      "C\n",
      "]\n",
      "(\n",
      "d\n",
      "v\n",
      "prime\n",
      "q\n",
      "=\n",
      "4\n",
      "X\n",
      "phi\n",
      "3\n",
      "tan\n",
      "e\n",
      ")\n",
      "[\n",
      "b\n",
      "k\n",
      "l\n",
      "geq\n",
      "2\n",
      "y\n",
      "5\n",
      "p\n",
      "w\n"
     ]
    }
   ],
   "source": [
    "data, labels = get_data()"
   ]
  },
  {
   "cell_type": "code",
   "execution_count": 7,
   "metadata": {},
   "outputs": [],
   "source": [
    "ignore2, X_train, ignore, y_train = train_test_split(np.array(data), np.array(labels), test_size=0.1, shuffle=True,stratify=np.array(labels))"
   ]
  },
  {
   "cell_type": "code",
   "execution_count": 8,
   "metadata": {},
   "outputs": [],
   "source": [
    "X_train, X_test, y_train, y_test = train_test_split(X_train, y_train, test_size=0.33, shuffle=True,stratify=y_train)"
   ]
  },
  {
   "cell_type": "markdown",
   "metadata": {},
   "source": [
    "# SVM"
   ]
  },
  {
   "cell_type": "code",
   "execution_count": 9,
   "metadata": {},
   "outputs": [],
   "source": [
    "clf = SVC(gamma='auto')"
   ]
  },
  {
   "cell_type": "code",
   "execution_count": 10,
   "metadata": {},
   "outputs": [
    {
     "data": {
      "text/plain": [
       "SVC(C=1.0, cache_size=200, class_weight=None, coef0=0.0,\n",
       "  decision_function_shape='ovr', degree=3, gamma='auto', kernel='rbf',\n",
       "  max_iter=-1, probability=False, random_state=None, shrinking=True,\n",
       "  tol=0.001, verbose=False)"
      ]
     },
     "execution_count": 10,
     "metadata": {},
     "output_type": "execute_result"
    }
   ],
   "source": [
    "clf.fit(X_train,y_train)"
   ]
  },
  {
   "cell_type": "code",
   "execution_count": 12,
   "metadata": {},
   "outputs": [
    {
     "name": "stdout",
     "output_type": "stream",
     "text": [
      "               precision    recall  f1-score   support\n",
      "\n",
      "            !       1.00      0.44      0.61        43\n",
      "            (       1.00      0.20      0.34       472\n",
      "            )       1.00      0.23      0.37       474\n",
      "            +       1.00      0.30      0.46       829\n",
      "            ,       1.00      0.10      0.17        63\n",
      "            -       0.12      1.00      0.21      1122\n",
      "            0       1.00      0.23      0.37       228\n",
      "            1       0.99      0.27      0.42       875\n",
      "            2       1.00      0.26      0.41       863\n",
      "            3       1.00      0.28      0.44       360\n",
      "            4       1.00      0.27      0.43       244\n",
      "            5       1.00      0.29      0.45       117\n",
      "            6       1.00      0.23      0.38       103\n",
      "            7       1.00      0.26      0.41        96\n",
      "            8       1.00      0.29      0.45       101\n",
      "            9       1.00      0.33      0.49       123\n",
      "            =       1.00      0.18      0.31       432\n",
      "            A       1.00      0.22      0.36       408\n",
      "            C       1.00      0.29      0.45       191\n",
      "        Delta       1.00      0.20      0.33         5\n",
      "            G       1.00      0.27      0.42        56\n",
      "            H       1.00      0.19      0.32        48\n",
      "            M       1.00      0.21      0.34        82\n",
      "            N       1.00      0.23      0.37       358\n",
      "            R       1.00      0.12      0.22        88\n",
      "            S       1.00      0.24      0.39        46\n",
      "            T       1.00      0.19      0.33       108\n",
      "            X       1.00      0.30      0.46       877\n",
      "            [       1.00      0.31      0.47        26\n",
      "            ]       1.00      0.31      0.47        26\n",
      "        alpha       1.00      0.35      0.51        84\n",
      "    ascii_124       0.42      0.18      0.25        44\n",
      "            b       1.00      0.26      0.41       285\n",
      "         beta       1.00      0.31      0.48        67\n",
      "          cos       1.00      0.21      0.35        99\n",
      "            d       1.00      0.26      0.41       160\n",
      "          div       1.00      0.45      0.62        29\n",
      "            e       1.00      0.23      0.38        99\n",
      "       exists       0.00      0.00      0.00         1\n",
      "            f       1.00      0.17      0.29       122\n",
      "       forall       0.00      0.00      0.00         1\n",
      "forward_slash       0.00      0.00      0.00         7\n",
      "        gamma       1.00      0.23      0.38        13\n",
      "          geq       1.00      0.35      0.52        23\n",
      "           gt       1.00      0.22      0.36         9\n",
      "            i       1.00      0.28      0.44       170\n",
      "           in       1.00      0.50      0.67         2\n",
      "        infty       1.00      0.34      0.51        59\n",
      "          int       1.00      0.24      0.39        90\n",
      "            j       1.00      0.25      0.41        51\n",
      "            k       1.00      0.23      0.37       101\n",
      "            l       1.00      0.21      0.34        34\n",
      "       lambda       0.00      0.00      0.00         4\n",
      "        ldots       1.00      0.30      0.46        20\n",
      "          leq       1.00      0.25      0.40        32\n",
      "          lim       1.00      0.42      0.59        55\n",
      "          log       1.00      0.29      0.45        66\n",
      "           lt       1.00      0.31      0.48        16\n",
      "           mu       1.00      0.33      0.50         6\n",
      "          neq       1.00      0.61      0.76        18\n",
      "            o       1.00      0.20      0.33        15\n",
      "            p       1.00      0.19      0.32        88\n",
      "          phi       1.00      0.17      0.29        12\n",
      "           pi       1.00      0.30      0.46        77\n",
      "           pm       1.00      0.23      0.38        26\n",
      "        prime       1.00      0.18      0.31        11\n",
      "            q       1.00      0.20      0.33        41\n",
      "   rightarrow       1.00      0.23      0.38        56\n",
      "        sigma       0.00      0.00      0.00         7\n",
      "          sin       1.00      0.31      0.47       142\n",
      "         sqrt       1.00      0.33      0.50       294\n",
      "          sum       1.00      0.15      0.25        89\n",
      "          tan       1.00      0.37      0.54        81\n",
      "        theta       1.00      0.29      0.45        92\n",
      "        times       1.00      0.27      0.43       107\n",
      "            u       1.00      0.21      0.35        42\n",
      "            v       1.00      0.27      0.43        51\n",
      "            w       1.00      0.11      0.20        18\n",
      "            y       1.00      0.28      0.44       308\n",
      "            z       1.00      0.35      0.51       194\n",
      "            {       1.00      0.31      0.47        13\n",
      "            }       1.00      0.08      0.14        13\n",
      "\n",
      "    micro avg       0.33      0.33      0.33     12408\n",
      "    macro avg       0.92      0.26      0.38     12408\n",
      " weighted avg       0.92      0.33      0.39     12408\n",
      "\n"
     ]
    },
    {
     "name": "stderr",
     "output_type": "stream",
     "text": [
      "/Users/asupsc/Desktop/IIIT/SEM5/ML/project/img2latex/venv/i2l/lib/python3.7/site-packages/sklearn/metrics/classification.py:1143: UndefinedMetricWarning: Precision and F-score are ill-defined and being set to 0.0 in labels with no predicted samples.\n",
      "  'precision', 'predicted', average, warn_for)\n"
     ]
    }
   ],
   "source": [
    "print(classification_report(y_test, clf.predict(X_test)))"
   ]
  },
  {
   "cell_type": "code",
   "execution_count": 14,
   "metadata": {},
   "outputs": [
    {
     "name": "stderr",
     "output_type": "stream",
     "text": [
      "/Users/asupsc/Desktop/IIIT/SEM5/ML/project/img2latex/venv/i2l/lib/python3.7/site-packages/sklearn/metrics/classification.py:1143: UndefinedMetricWarning: Precision and F-score are ill-defined and being set to 0.0 in labels with no predicted samples.\n",
      "  'precision', 'predicted', average, warn_for)\n"
     ]
    }
   ],
   "source": [
    "cls_report = classification_report(y_test, clf.predict(X_test),output_dict=True)"
   ]
  },
  {
   "cell_type": "code",
   "execution_count": 15,
   "metadata": {},
   "outputs": [
    {
     "data": {
      "text/plain": [
       "dict"
      ]
     },
     "execution_count": 15,
     "metadata": {},
     "output_type": "execute_result"
    }
   ],
   "source": [
    "type(cls_report)"
   ]
  },
  {
   "cell_type": "code",
   "execution_count": 18,
   "metadata": {},
   "outputs": [],
   "source": [
    "pickle.dump(cls_report,open('cls_report_svm.pkl','wb'))"
   ]
  },
  {
   "cell_type": "markdown",
   "metadata": {},
   "source": [
    "# Naive Bayes"
   ]
  },
  {
   "cell_type": "code",
   "execution_count": 22,
   "metadata": {},
   "outputs": [],
   "source": [
    "nb_clf = MultinomialNB()"
   ]
  },
  {
   "cell_type": "code",
   "execution_count": 23,
   "metadata": {},
   "outputs": [
    {
     "data": {
      "text/plain": [
       "MultinomialNB(alpha=1.0, class_prior=None, fit_prior=True)"
      ]
     },
     "execution_count": 23,
     "metadata": {},
     "output_type": "execute_result"
    }
   ],
   "source": [
    "nb_clf.fit(X_train,y_train)"
   ]
  },
  {
   "cell_type": "code",
   "execution_count": 24,
   "metadata": {},
   "outputs": [
    {
     "name": "stdout",
     "output_type": "stream",
     "text": [
      "               precision    recall  f1-score   support\n",
      "\n",
      "            !       0.08      0.51      0.14        43\n",
      "            (       0.58      0.72      0.64       472\n",
      "            )       0.60      0.71      0.65       474\n",
      "            +       0.59      0.28      0.38       829\n",
      "            ,       0.14      0.35      0.20        63\n",
      "            -       0.85      0.75      0.80      1122\n",
      "            0       0.59      0.38      0.46       228\n",
      "            1       0.49      0.09      0.15       875\n",
      "            2       0.81      0.32      0.46       863\n",
      "            3       0.48      0.61      0.53       360\n",
      "            4       0.37      0.36      0.36       244\n",
      "            5       0.37      0.43      0.40       117\n",
      "            6       0.41      0.57      0.48       103\n",
      "            7       0.46      0.46      0.46        96\n",
      "            8       0.44      0.48      0.45       101\n",
      "            9       0.43      0.55      0.48       123\n",
      "            =       0.66      0.73      0.69       432\n",
      "            A       0.62      0.42      0.50       408\n",
      "            C       0.55      0.50      0.53       191\n",
      "        Delta       1.00      0.20      0.33         5\n",
      "            G       0.10      0.05      0.07        56\n",
      "            H       0.14      0.33      0.20        48\n",
      "            M       0.35      0.56      0.43        82\n",
      "            N       0.50      0.37      0.42       358\n",
      "            R       0.26      0.42      0.32        88\n",
      "            S       0.17      0.30      0.22        46\n",
      "            T       0.11      0.15      0.13       108\n",
      "            X       0.71      0.41      0.52       877\n",
      "            [       0.27      0.69      0.39        26\n",
      "            ]       0.19      0.73      0.31        26\n",
      "        alpha       0.33      0.40      0.37        84\n",
      "    ascii_124       0.07      0.66      0.13        44\n",
      "            b       0.65      0.58      0.61       285\n",
      "         beta       0.51      0.60      0.55        67\n",
      "          cos       0.62      0.81      0.70        99\n",
      "            d       0.43      0.64      0.52       160\n",
      "          div       0.20      0.28      0.23        29\n",
      "            e       0.39      0.27      0.32        99\n",
      "       exists       0.00      0.00      0.00         1\n",
      "            f       0.30      0.20      0.24       122\n",
      "       forall       0.00      0.00      0.00         1\n",
      "forward_slash       0.02      0.29      0.03         7\n",
      "        gamma       0.17      0.08      0.11        13\n",
      "          geq       0.40      0.52      0.45        23\n",
      "           gt       0.24      0.56      0.33         9\n",
      "            i       0.62      0.36      0.46       170\n",
      "           in       1.00      0.50      0.67         2\n",
      "        infty       0.46      0.66      0.54        59\n",
      "          int       0.36      0.48      0.41        90\n",
      "            j       0.23      0.57      0.33        51\n",
      "            k       0.31      0.37      0.34       101\n",
      "            l       0.19      0.15      0.16        34\n",
      "       lambda       0.00      0.00      0.00         4\n",
      "        ldots       0.21      1.00      0.34        20\n",
      "          leq       0.45      0.69      0.54        32\n",
      "          lim       0.66      0.56      0.61        55\n",
      "          log       0.82      0.74      0.78        66\n",
      "           lt       0.33      0.44      0.38        16\n",
      "           mu       0.67      0.33      0.44         6\n",
      "          neq       0.27      0.67      0.39        18\n",
      "            o       0.14      0.20      0.17        15\n",
      "            p       0.41      0.58      0.48        88\n",
      "          phi       0.50      0.42      0.45        12\n",
      "           pi       0.20      0.47      0.28        77\n",
      "           pm       0.26      0.42      0.32        26\n",
      "        prime       0.01      0.09      0.02        11\n",
      "            q       0.23      0.34      0.28        41\n",
      "   rightarrow       0.19      0.61      0.29        56\n",
      "        sigma       0.00      0.00      0.00         7\n",
      "          sin       0.83      0.84      0.83       142\n",
      "         sqrt       0.75      0.74      0.75       294\n",
      "          sum       0.40      0.42      0.41        89\n",
      "          tan       0.72      0.72      0.72        81\n",
      "        theta       0.35      0.51      0.41        92\n",
      "        times       0.17      0.42      0.24       107\n",
      "            u       0.10      0.21      0.13        42\n",
      "            v       0.34      0.57      0.42        51\n",
      "            w       0.24      0.44      0.31        18\n",
      "            y       0.40      0.40      0.40       308\n",
      "            z       0.39      0.22      0.28       194\n",
      "            {       0.32      0.62      0.42        13\n",
      "            }       0.09      0.54      0.15        13\n",
      "\n",
      "    micro avg       0.47      0.47      0.47     12408\n",
      "    macro avg       0.38      0.45      0.38     12408\n",
      " weighted avg       0.56      0.47      0.48     12408\n",
      "\n"
     ]
    },
    {
     "name": "stderr",
     "output_type": "stream",
     "text": [
      "/Users/asupsc/Desktop/IIIT/SEM5/ML/project/img2latex/venv/i2l/lib/python3.7/site-packages/sklearn/metrics/classification.py:1143: UndefinedMetricWarning: Precision and F-score are ill-defined and being set to 0.0 in labels with no predicted samples.\n",
      "  'precision', 'predicted', average, warn_for)\n"
     ]
    }
   ],
   "source": [
    "print(classification_report(y_test,nb_clf.predict(X_test)))"
   ]
  },
  {
   "cell_type": "code",
   "execution_count": 25,
   "metadata": {},
   "outputs": [
    {
     "name": "stderr",
     "output_type": "stream",
     "text": [
      "/Users/asupsc/Desktop/IIIT/SEM5/ML/project/img2latex/venv/i2l/lib/python3.7/site-packages/sklearn/metrics/classification.py:1143: UndefinedMetricWarning: Precision and F-score are ill-defined and being set to 0.0 in labels with no predicted samples.\n",
      "  'precision', 'predicted', average, warn_for)\n"
     ]
    }
   ],
   "source": [
    "cls_report_nb = classification_report(y_test, nb_clf.predict(X_test),output_dict=True)"
   ]
  },
  {
   "cell_type": "code",
   "execution_count": 26,
   "metadata": {},
   "outputs": [],
   "source": [
    "pickle.dump(cls_report_nb,open('cls_report_nb.pkl','wb'))"
   ]
  },
  {
   "cell_type": "markdown",
   "metadata": {},
   "source": [
    "# Random Forest"
   ]
  },
  {
   "cell_type": "code",
   "execution_count": 28,
   "metadata": {},
   "outputs": [],
   "source": [
    "clf_rf = RandomForestClassifier()"
   ]
  },
  {
   "cell_type": "code",
   "execution_count": 29,
   "metadata": {},
   "outputs": [
    {
     "name": "stderr",
     "output_type": "stream",
     "text": [
      "/Users/asupsc/Desktop/IIIT/SEM5/ML/project/img2latex/venv/i2l/lib/python3.7/site-packages/sklearn/ensemble/forest.py:248: FutureWarning: The default value of n_estimators will change from 10 in version 0.20 to 100 in 0.22.\n",
      "  \"10 in version 0.20 to 100 in 0.22.\", FutureWarning)\n"
     ]
    },
    {
     "data": {
      "text/plain": [
       "RandomForestClassifier(bootstrap=True, class_weight=None, criterion='gini',\n",
       "            max_depth=None, max_features='auto', max_leaf_nodes=None,\n",
       "            min_impurity_decrease=0.0, min_impurity_split=None,\n",
       "            min_samples_leaf=1, min_samples_split=2,\n",
       "            min_weight_fraction_leaf=0.0, n_estimators=10, n_jobs=None,\n",
       "            oob_score=False, random_state=None, verbose=0,\n",
       "            warm_start=False)"
      ]
     },
     "execution_count": 29,
     "metadata": {},
     "output_type": "execute_result"
    }
   ],
   "source": [
    "clf_rf.fit(X_train,y_train)"
   ]
  },
  {
   "cell_type": "code",
   "execution_count": 30,
   "metadata": {},
   "outputs": [
    {
     "name": "stdout",
     "output_type": "stream",
     "text": [
      "               precision    recall  f1-score   support\n",
      "\n",
      "            !       0.51      0.47      0.49        43\n",
      "            (       0.55      0.93      0.69       472\n",
      "            )       0.55      0.93      0.69       474\n",
      "            +       0.51      0.82      0.63       829\n",
      "            ,       0.15      0.10      0.12        63\n",
      "            -       0.85      0.99      0.91      1122\n",
      "            0       0.45      0.51      0.48       228\n",
      "            1       0.58      0.77      0.66       875\n",
      "            2       0.47      0.73      0.57       863\n",
      "            3       0.55      0.68      0.60       360\n",
      "            4       0.52      0.37      0.43       244\n",
      "            5       0.59      0.35      0.44       117\n",
      "            6       0.64      0.29      0.40       103\n",
      "            7       0.53      0.33      0.41        96\n",
      "            8       0.58      0.30      0.39       101\n",
      "            9       0.64      0.36      0.46       123\n",
      "            =       0.72      0.77      0.74       432\n",
      "            A       0.55      0.53      0.54       408\n",
      "            C       0.62      0.59      0.60       191\n",
      "        Delta       1.00      0.20      0.33         5\n",
      "            G       0.67      0.25      0.36        56\n",
      "            H       0.59      0.21      0.31        48\n",
      "            M       0.56      0.23      0.33        82\n",
      "            N       0.55      0.41      0.47       358\n",
      "            R       0.50      0.11      0.19        88\n",
      "            S       0.61      0.24      0.34        46\n",
      "            T       0.66      0.19      0.30       108\n",
      "            X       0.57      0.67      0.62       877\n",
      "            [       0.69      0.35      0.46        26\n",
      "            ]       0.91      0.38      0.54        26\n",
      "        alpha       0.88      0.35      0.50        84\n",
      "    ascii_124       0.35      0.18      0.24        44\n",
      "            b       0.61      0.53      0.57       285\n",
      "         beta       0.72      0.31      0.44        67\n",
      "          cos       0.67      0.44      0.53        99\n",
      "            d       0.59      0.36      0.45       160\n",
      "          div       0.92      0.41      0.57        29\n",
      "            e       0.69      0.25      0.37        99\n",
      "       exists       0.00      0.00      0.00         1\n",
      "            f       0.61      0.20      0.31       122\n",
      "       forall       0.00      0.00      0.00         1\n",
      "forward_slash       0.00      0.00      0.00         7\n",
      "        gamma       1.00      0.23      0.38        13\n",
      "          geq       1.00      0.35      0.52        23\n",
      "           gt       0.67      0.22      0.33         9\n",
      "            i       0.59      0.32      0.42       170\n",
      "           in       1.00      0.50      0.67         2\n",
      "        infty       0.75      0.36      0.48        59\n",
      "          int       0.65      0.41      0.50        90\n",
      "            j       0.65      0.25      0.37        51\n",
      "            k       0.83      0.24      0.37       101\n",
      "            l       0.64      0.21      0.31        34\n",
      "       lambda       0.00      0.00      0.00         4\n",
      "        ldots       1.00      0.25      0.40        20\n",
      "          leq       1.00      0.25      0.40        32\n",
      "          lim       0.92      0.42      0.57        55\n",
      "          log       0.90      0.29      0.44        66\n",
      "           lt       0.83      0.31      0.45        16\n",
      "           mu       1.00      0.33      0.50         6\n",
      "          neq       0.92      0.61      0.73        18\n",
      "            o       1.00      0.20      0.33        15\n",
      "            p       0.63      0.19      0.30        88\n",
      "          phi       1.00      0.17      0.29        12\n",
      "           pi       0.96      0.29      0.44        77\n",
      "           pm       0.75      0.23      0.35        26\n",
      "        prime       1.00      0.18      0.31        11\n",
      "            q       0.90      0.22      0.35        41\n",
      "   rightarrow       0.83      0.27      0.41        56\n",
      "        sigma       0.00      0.00      0.00         7\n",
      "          sin       0.68      0.44      0.54       142\n",
      "         sqrt       0.73      0.79      0.76       294\n",
      "          sum       0.79      0.17      0.28        89\n",
      "          tan       0.77      0.41      0.53        81\n",
      "        theta       0.80      0.30      0.44        92\n",
      "        times       0.67      0.27      0.39       107\n",
      "            u       0.60      0.21      0.32        42\n",
      "            v       0.88      0.27      0.42        51\n",
      "            w       1.00      0.11      0.20        18\n",
      "            y       0.60      0.41      0.49       308\n",
      "            z       0.78      0.36      0.49       194\n",
      "            {       1.00      0.31      0.47        13\n",
      "            }       1.00      0.08      0.14        13\n",
      "\n",
      "    micro avg       0.60      0.60      0.60     12408\n",
      "    macro avg       0.68      0.35      0.42     12408\n",
      " weighted avg       0.63      0.60      0.58     12408\n",
      "\n"
     ]
    },
    {
     "name": "stderr",
     "output_type": "stream",
     "text": [
      "/Users/asupsc/Desktop/IIIT/SEM5/ML/project/img2latex/venv/i2l/lib/python3.7/site-packages/sklearn/metrics/classification.py:1143: UndefinedMetricWarning: Precision and F-score are ill-defined and being set to 0.0 in labels with no predicted samples.\n",
      "  'precision', 'predicted', average, warn_for)\n"
     ]
    }
   ],
   "source": [
    "print(classification_report(y_test,clf_rf.predict(X_test)))"
   ]
  },
  {
   "cell_type": "code",
   "execution_count": 31,
   "metadata": {},
   "outputs": [
    {
     "name": "stderr",
     "output_type": "stream",
     "text": [
      "/Users/asupsc/Desktop/IIIT/SEM5/ML/project/img2latex/venv/i2l/lib/python3.7/site-packages/sklearn/metrics/classification.py:1143: UndefinedMetricWarning: Precision and F-score are ill-defined and being set to 0.0 in labels with no predicted samples.\n",
      "  'precision', 'predicted', average, warn_for)\n"
     ]
    }
   ],
   "source": [
    "cls_report_rf = classification_report(y_test, clf_rf.predict(X_test),output_dict=True)"
   ]
  },
  {
   "cell_type": "code",
   "execution_count": 32,
   "metadata": {},
   "outputs": [],
   "source": [
    "pickle.dump(cls_report_rf,open('cls_report_rf.pkl','wb'))"
   ]
  },
  {
   "cell_type": "markdown",
   "metadata": {},
   "source": [
    "# Logistic Regression"
   ]
  },
  {
   "cell_type": "code",
   "execution_count": 46,
   "metadata": {},
   "outputs": [],
   "source": [
    "clf_lr = LogisticRegression(solver='lbfgs',multi_class='multinomial')"
   ]
  },
  {
   "cell_type": "code",
   "execution_count": 47,
   "metadata": {},
   "outputs": [
    {
     "name": "stderr",
     "output_type": "stream",
     "text": [
      "/Users/asupsc/Desktop/IIIT/SEM5/ML/project/img2latex/venv/i2l/lib/python3.7/site-packages/sklearn/linear_model/logistic.py:757: ConvergenceWarning: lbfgs failed to converge. Increase the number of iterations.\n",
      "  \"of iterations.\", ConvergenceWarning)\n"
     ]
    },
    {
     "data": {
      "text/plain": [
       "LogisticRegression(C=1.0, class_weight=None, dual=False, fit_intercept=True,\n",
       "          intercept_scaling=1, max_iter=100, multi_class='multinomial',\n",
       "          n_jobs=None, penalty='l2', random_state=None, solver='lbfgs',\n",
       "          tol=0.0001, verbose=0, warm_start=False)"
      ]
     },
     "execution_count": 47,
     "metadata": {},
     "output_type": "execute_result"
    }
   ],
   "source": [
    "clf_lr.fit(X_train,y_train)"
   ]
  },
  {
   "cell_type": "code",
   "execution_count": 48,
   "metadata": {},
   "outputs": [
    {
     "name": "stdout",
     "output_type": "stream",
     "text": [
      "               precision    recall  f1-score   support\n",
      "\n",
      "            !       0.00      0.00      0.00        43\n",
      "            (       0.68      0.86      0.76       472\n",
      "            )       0.73      0.84      0.78       474\n",
      "            +       0.58      0.69      0.63       829\n",
      "            ,       0.29      0.06      0.10        63\n",
      "            -       0.89      0.93      0.91      1122\n",
      "            0       0.63      0.69      0.66       228\n",
      "            1       0.52      0.76      0.61       875\n",
      "            2       0.64      0.74      0.68       863\n",
      "            3       0.68      0.78      0.73       360\n",
      "            4       0.42      0.47      0.44       244\n",
      "            5       0.47      0.47      0.47       117\n",
      "            6       0.51      0.40      0.45       103\n",
      "            7       0.57      0.42      0.48        96\n",
      "            8       0.52      0.43      0.47       101\n",
      "            9       0.53      0.63      0.58       123\n",
      "            =       0.69      0.75      0.72       432\n",
      "            A       0.62      0.70      0.66       408\n",
      "            C       0.55      0.70      0.61       191\n",
      "        Delta       0.00      0.00      0.00         5\n",
      "            G       0.00      0.00      0.00        56\n",
      "            H       1.00      0.02      0.04        48\n",
      "            M       0.55      0.45      0.50        82\n",
      "            N       0.56      0.63      0.59       358\n",
      "            R       0.36      0.24      0.29        88\n",
      "            S       0.00      0.00      0.00        46\n",
      "            T       0.22      0.10      0.14       108\n",
      "            X       0.67      0.78      0.72       877\n",
      "            [       0.00      0.00      0.00        26\n",
      "            ]       0.00      0.00      0.00        26\n",
      "        alpha       0.51      0.24      0.33        84\n",
      "    ascii_124       0.20      0.25      0.22        44\n",
      "            b       0.61      0.65      0.63       285\n",
      "         beta       0.76      0.42      0.54        67\n",
      "          cos       0.79      0.82      0.80        99\n",
      "            d       0.66      0.66      0.66       160\n",
      "          div       0.00      0.00      0.00        29\n",
      "            e       0.41      0.23      0.30        99\n",
      "       exists       0.00      0.00      0.00         1\n",
      "            f       0.25      0.25      0.25       122\n",
      "       forall       0.00      0.00      0.00         1\n",
      "forward_slash       0.00      0.00      0.00         7\n",
      "        gamma       0.00      0.00      0.00        13\n",
      "          geq       0.00      0.00      0.00        23\n",
      "           gt       0.00      0.00      0.00         9\n",
      "            i       0.56      0.45      0.50       170\n",
      "           in       0.00      0.00      0.00         2\n",
      "        infty       0.74      0.49      0.59        59\n",
      "          int       0.68      0.56      0.61        90\n",
      "            j       0.81      0.25      0.39        51\n",
      "            k       0.45      0.21      0.28       101\n",
      "            l       0.00      0.00      0.00        34\n",
      "       lambda       0.00      0.00      0.00         4\n",
      "        ldots       0.00      0.00      0.00        20\n",
      "          leq       0.00      0.00      0.00        32\n",
      "          lim       0.76      0.24      0.36        55\n",
      "          log       0.90      0.41      0.56        66\n",
      "           lt       0.00      0.00      0.00        16\n",
      "           mu       0.00      0.00      0.00         6\n",
      "          neq       0.00      0.00      0.00        18\n",
      "            o       0.00      0.00      0.00        15\n",
      "            p       0.49      0.56      0.52        88\n",
      "          phi       0.00      0.00      0.00        12\n",
      "           pi       0.52      0.17      0.25        77\n",
      "           pm       1.00      0.04      0.07        26\n",
      "        prime       0.00      0.00      0.00        11\n",
      "            q       1.00      0.02      0.05        41\n",
      "   rightarrow       0.33      0.20      0.25        56\n",
      "        sigma       0.00      0.00      0.00         7\n",
      "          sin       0.78      0.78      0.78       142\n",
      "         sqrt       0.81      0.87      0.84       294\n",
      "          sum       0.51      0.26      0.34        89\n",
      "          tan       0.57      0.52      0.54        81\n",
      "        theta       0.62      0.49      0.55        92\n",
      "        times       0.20      0.05      0.08       107\n",
      "            u       0.00      0.00      0.00        42\n",
      "            v       1.00      0.29      0.45        51\n",
      "            w       0.00      0.00      0.00        18\n",
      "            y       0.52      0.58      0.55       308\n",
      "            z       0.49      0.42      0.45       194\n",
      "            {       0.00      0.00      0.00        13\n",
      "            }       0.00      0.00      0.00        13\n",
      "\n",
      "    micro avg       0.63      0.63      0.63     12408\n",
      "    macro avg       0.39      0.30      0.31     12408\n",
      " weighted avg       0.60      0.63      0.60     12408\n",
      "\n"
     ]
    },
    {
     "name": "stderr",
     "output_type": "stream",
     "text": [
      "/Users/asupsc/Desktop/IIIT/SEM5/ML/project/img2latex/venv/i2l/lib/python3.7/site-packages/sklearn/metrics/classification.py:1143: UndefinedMetricWarning: Precision and F-score are ill-defined and being set to 0.0 in labels with no predicted samples.\n",
      "  'precision', 'predicted', average, warn_for)\n"
     ]
    }
   ],
   "source": [
    "print(classification_report(y_test,clf_lr.predict(X_test)))"
   ]
  },
  {
   "cell_type": "code",
   "execution_count": 49,
   "metadata": {},
   "outputs": [
    {
     "name": "stderr",
     "output_type": "stream",
     "text": [
      "/Users/asupsc/Desktop/IIIT/SEM5/ML/project/img2latex/venv/i2l/lib/python3.7/site-packages/sklearn/metrics/classification.py:1143: UndefinedMetricWarning: Precision and F-score are ill-defined and being set to 0.0 in labels with no predicted samples.\n",
      "  'precision', 'predicted', average, warn_for)\n"
     ]
    }
   ],
   "source": [
    "cls_report_lr = classification_report(y_test, clf_lr.predict(X_test),output_dict=True)"
   ]
  },
  {
   "cell_type": "code",
   "execution_count": 50,
   "metadata": {},
   "outputs": [],
   "source": [
    "pickle.dump(cls_report_lr,open('cls_report_lr.pkl','wb'))"
   ]
  },
  {
   "cell_type": "code",
   "execution_count": null,
   "metadata": {},
   "outputs": [],
   "source": []
  }
 ],
 "metadata": {
  "kernelspec": {
   "display_name": "Python 3",
   "language": "python",
   "name": "python3"
  },
  "language_info": {
   "codemirror_mode": {
    "name": "ipython",
    "version": 3
   },
   "file_extension": ".py",
   "mimetype": "text/x-python",
   "name": "python",
   "nbconvert_exporter": "python",
   "pygments_lexer": "ipython3",
   "version": "3.7.0"
  }
 },
 "nbformat": 4,
 "nbformat_minor": 2
}
