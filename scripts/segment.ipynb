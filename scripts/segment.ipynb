{
 "cells": [
  {
   "cell_type": "code",
   "execution_count": null,
   "metadata": {},
   "outputs": [],
   "source": [
    "import cv2\n",
    "import os\n",
    "from matplotlib import pyplot as plt\n",
    "import numpy as np"
   ]
  },
  {
   "cell_type": "code",
   "execution_count": null,
   "metadata": {},
   "outputs": [],
   "source": [
    "def get_segments(image,path):\n",
    "\n",
    "    fh = open(path+\"coords.txt\",'a+')\n",
    "    towrite=\"\"\n",
    "    #read image\n",
    "    img = cv2.imread(image)\n",
    "\n",
    "    #grayscale\n",
    "    gray = cv2.cvtColor(img,cv2.COLOR_BGR2GRAY)\n",
    "\n",
    "    #binarize \n",
    "    ret,thresh = cv2.threshold(gray,127,255,cv2.THRESH_BINARY_INV)\n",
    "\n",
    "\n",
    "    #find contours\n",
    "    im2,ctrs, hier = cv2.findContours(thresh.copy(), cv2.RETR_EXTERNAL, \n",
    "    cv2.CHAIN_APPROX_SIMPLE)\n",
    "\n",
    "    #sort contours\n",
    "    sorted_ctrs = sorted(ctrs, key=lambda ctr: cv2.boundingRect(ctr)[0])\n",
    "\n",
    "    for i, ctr in enumerate(sorted_ctrs):\n",
    "        # Get bounding box\n",
    "        x, y, w, h = cv2.boundingRect(ctr)\n",
    "        \n",
    "        towrite+=str(x)+','+str(y)+','+str(w)+','+str(h)+\"\\n\"\n",
    "\n",
    "        # Getting ROI\n",
    "        roi = img[y:y+h, x:x+w]\n",
    "\n",
    "        # show ROI\n",
    "        cv2.imwrite(path+str(i)+'.png', roi)\n",
    "#         cv2.imshow('charachter'+str(i), roi)\n",
    "        cv2.rectangle(img,(x,y),( x + w, y + h ),(90,0,255),2)\n",
    "#         cv2.waitKey(0)\n",
    "\n",
    "    fh.write(towrite)\n",
    "#     cv2.imshow('marked areas',img)\n",
    "#     cv2.waitKey(0)"
   ]
  },
  {
   "cell_type": "code",
   "execution_count": null,
   "metadata": {},
   "outputs": [],
   "source": [
    "PATH = '../data/data_png_TrainINKML_2013/'\n",
    "files = os.listdir(PATH)\n",
    "count=1\n",
    "NEW_PATH = '../data/segmented/'+PATH.split(\"/\")[-2]+'/'\n",
    "os.mkdir(NEW_PATH)\n",
    "for file in files:\n",
    "    temp_path = NEW_PATH+file.split('.png')[0]+'/'\n",
    "    os.mkdir(temp_path)\n",
    "    get_segments(PATH+file,temp_path)\n",
    "    print(count)\n",
    "    count+=1"
   ]
  },
  {
   "cell_type": "markdown",
   "metadata": {},
   "source": [
    "# Watershed Algorithm"
   ]
  },
  {
   "cell_type": "code",
   "execution_count": 3,
   "metadata": {},
   "outputs": [],
   "source": [
    "import numpy as np\n",
    "import matplotlib.pyplot as plt\n",
    "from scipy import ndimage as ndi\n",
    "\n",
    "from skimage.morphology import watershed\n",
    "from skimage.feature import peak_local_max\n",
    "import cv2"
   ]
  },
  {
   "cell_type": "code",
   "execution_count": 5,
   "metadata": {},
   "outputs": [],
   "source": [
    "# image = cv2.imread('../data/data_png_trainData_2012/TrainData2_0_sub_41.png')\n",
    "image = cv2.imread('../data/data_png_TrainINKML_2013/2009220-1327-79.png')\n",
    "#grayscale\n",
    "gray = cv2.cvtColor(image,cv2.COLOR_BGR2GRAY)\n",
    "\n",
    "#binarize \n",
    "ret,thresh = cv2.threshold(gray,250,255,cv2.THRESH_BINARY_INV)\n",
    "\n",
    "image = thresh\n",
    "\n",
    "# Generate an initial image with two overlapping circles\n",
    "# x, y = np.indices((80, 80))\n",
    "# x1, y1, x2, y2 = 28, 28, 44, 52\n",
    "# r1, r2 = 16, 20\n",
    "# mask_circle1 = (x - x1)**2 + (y - y1)**2 < r1**2\n",
    "# mask_circle2 = (x - x2)**2 + (y - y2)**2 < r2**2\n",
    "# image = np.logical_or(mask_circle1, mask_circle2)"
   ]
  },
  {
   "cell_type": "code",
   "execution_count": 6,
   "metadata": {},
   "outputs": [
    {
     "data": {
      "text/plain": [
       "1"
      ]
     },
     "execution_count": 6,
     "metadata": {},
     "output_type": "execute_result"
    }
   ],
   "source": [
    "cv2.THRESH_BINARY_INV"
   ]
  },
  {
   "cell_type": "code",
   "execution_count": 7,
   "metadata": {},
   "outputs": [
    {
     "data": {
      "image/png": "[encoded data removed]",
      "text/plain": [
       "<Figure size 648x216 with 3 Axes>"
      ]
     },
     "metadata": {
      "needs_background": "light"
     },
     "output_type": "display_data"
    }
   ],
   "source": [
    "distance = ndi.distance_transform_edt(image)\n",
    "local_maxi = peak_local_max(distance, indices=False, footprint=np.ones((3, 3)),labels=image)\n",
    "markers = ndi.label(local_maxi)[0]\n",
    "labels = watershed(-distance, markers, mask=image)\n",
    "\n",
    "fig, axes = plt.subplots(ncols=3, figsize=(9, 3), sharex=True, sharey=True)\n",
    "ax = axes.ravel()\n",
    "\n",
    "ax[0].imshow(image, cmap=plt.cm.gray, interpolation='nearest')\n",
    "ax[0].set_title('Overlapping objects')\n",
    "ax[1].imshow(-distance, cmap=plt.cm.gray, interpolation='nearest')\n",
    "ax[1].set_title('Distances')\n",
    "ax[2].imshow(labels, cmap=plt.cm.nipy_spectral, interpolation='nearest')\n",
    "ax[2].set_title('Separated objects')\n",
    "\n",
    "for a in ax:\n",
    "    a.set_axis_off()\n",
    "\n",
    "fig.tight_layout()\n",
    "plt.show()"
   ]
  }
 ],
 "metadata": {
  "kernelspec": {
   "display_name": "Python 3",
   "language": "python",
   "name": "python3"
  },
  "language_info": {
   "codemirror_mode": {
    "name": "ipython",
    "version": 3
   },
   "file_extension": ".py",
   "mimetype": "text/x-python",
   "name": "python",
   "nbconvert_exporter": "python",
   "pygments_lexer": "ipython3",
   "version": "3.7.0"
  }
 },
 "nbformat": 4,
 "nbformat_minor": 2
}
