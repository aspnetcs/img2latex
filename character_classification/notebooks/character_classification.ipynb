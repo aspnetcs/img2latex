{
 "cells": [
  {
   "cell_type": "code",
   "execution_count": 1,
   "metadata": {},
   "outputs": [
    {
     "name": "stderr",
     "output_type": "stream",
     "text": [
      "Using TensorFlow backend.\n"
     ]
    }
   ],
   "source": [
    "import sys\n",
    "import os\n",
    "import glob\n",
    "import keras\n",
    "import matplotlib.pyplot as plt\n",
    "from skimage import transform,io\n",
    "from skimage.filters import threshold_mean\n",
    "import numpy as np\n",
    "import keras\n",
    "from sklearn.utils import shuffle\n",
    "from sklearn.model_selection import train_test_split"
   ]
  },
  {
   "cell_type": "code",
   "execution_count": 2,
   "metadata": {},
   "outputs": [],
   "source": [
    "sys.path.append('../data')"
   ]
  },
  {
   "cell_type": "code",
   "execution_count": 3,
   "metadata": {},
   "outputs": [],
   "source": [
    "DATA_PATH = '../data/'\n",
    "IMG_PATH = os.path.join(DATA_PATH, \"extracted_images\")\n",
    "SYMBOL_LIST_PATH = os.path.join(DATA_PATH, \"handwritten_math_symbols\")"
   ]
  },
  {
   "cell_type": "code",
   "execution_count": 4,
   "metadata": {},
   "outputs": [],
   "source": [
    "TARGET_IMAGE_SIZE = (32,32)"
   ]
  },
  {
   "cell_type": "code",
   "execution_count": 5,
   "metadata": {},
   "outputs": [],
   "source": [
    "with open(SYMBOL_LIST_PATH) as f:\n",
    "    symbols_list = f.read().split(\"\\n\")\n",
    "num_classes = len(symbols_list)"
   ]
  },
  {
   "cell_type": "code",
   "execution_count": 6,
   "metadata": {},
   "outputs": [],
   "source": [
    "def read_image(image_path):\n",
    "    # read\n",
    "    im = io.imread(a_img_path)\n",
    "        \n",
    "    # resize\n",
    "    im = transform.resize(im, TARGET_IMAGE_SIZE, mode='symmetric', preserve_range=True)\n",
    "    \n",
    "    # threashold to convert it to binary\n",
    "    thresh = threshold_mean(im)\n",
    "    binary = im > thresh\n",
    "\n",
    "    # binary conversion\n",
    "    binary[binary == True] = 1\n",
    "    binary[binary == False] = 0\n",
    "    \n",
    "    return binary"
   ]
  },
  {
   "cell_type": "code",
   "execution_count": 7,
   "metadata": {
    "scrolled": true
   },
   "outputs": [
    {
     "name": "stderr",
     "output_type": "stream",
     "text": [
      "/home/sharmistha/.local/lib/python3.5/site-packages/skimage/transform/_warps.py:110: UserWarning: Anti-aliasing will be enabled by default in skimage 0.15 to avoid aliasing artifacts when down-sampling images.\n",
      "  warn(\"Anti-aliasing will be enabled by default in skimage 0.15 to \"\n"
     ]
    }
   ],
   "source": [
    "X = [] \n",
    "Y = []\n",
    "\n",
    "for i in range(len(symbols_list)):\n",
    "    for a_img_path in glob.glob(os.path.join(IMG_PATH, symbols_list[i]) + \"/*.jpg\"):\n",
    "        \n",
    "        # read\n",
    "        im = io.imread(a_img_path)\n",
    "        \n",
    "        # resize\n",
    "        im = transform.resize(im, TARGET_IMAGE_SIZE, mode='symmetric', preserve_range=True)\n",
    "        \n",
    "        # threashold to convert it to binary\n",
    "        thresh = threshold_mean(im)\n",
    "        binary = im > thresh\n",
    "        \n",
    "        # binary conversion\n",
    "        binary[binary == True] = 1\n",
    "        binary[binary == False] = 0\n",
    "        \n",
    "        X.append(binary)\n",
    "        Y.append(i)"
   ]
  },
  {
   "cell_type": "code",
   "execution_count": 8,
   "metadata": {},
   "outputs": [
    {
     "data": {
      "text/plain": [
       "375974"
      ]
     },
     "execution_count": 8,
     "metadata": {},
     "output_type": "execute_result"
    }
   ],
   "source": [
    "len(X)"
   ]
  },
  {
   "cell_type": "code",
   "execution_count": 9,
   "metadata": {},
   "outputs": [],
   "source": [
    "Y = keras.utils.to_categorical(Y, num_classes)"
   ]
  },
  {
   "cell_type": "code",
   "execution_count": 10,
   "metadata": {},
   "outputs": [],
   "source": [
    "X = np.array(X)\n",
    "Y = np.array(Y)"
   ]
  },
  {
   "cell_type": "code",
   "execution_count": 74,
   "metadata": {},
   "outputs": [],
   "source": [
    "# resized\n",
    "X = X.reshape((len(X),32, 32))"
   ]
  },
  {
   "cell_type": "code",
   "execution_count": 75,
   "metadata": {},
   "outputs": [],
   "source": [
    "X, Y = shuffle(X, Y, random_state=23)\n",
    "\n",
    "X_train, X_test, y_train, y_test = train_test_split(X, Y, test_size=0.30, random_state=46, shuffle=True)"
   ]
  },
  {
   "cell_type": "code",
   "execution_count": 76,
   "metadata": {},
   "outputs": [
    {
     "name": "stdout",
     "output_type": "stream",
     "text": [
      "X_train (263181, 32, 32)\n",
      "X_test (112793, 32, 32)\n"
     ]
    }
   ],
   "source": [
    "print(\"X_train \" + str(X_train.shape))\n",
    "print(\"X_test \" + str(X_test.shape))"
   ]
  },
  {
   "cell_type": "code",
   "execution_count": 77,
   "metadata": {},
   "outputs": [
    {
     "name": "stdout",
     "output_type": "stream",
     "text": [
      "y_train (263181, 83)\n",
      "y_test (112793, 83)\n"
     ]
    }
   ],
   "source": [
    "print(\"y_train \" + str(y_train.shape))\n",
    "print(\"y_test \" + str(y_test.shape))"
   ]
  },
  {
   "cell_type": "code",
   "execution_count": 32,
   "metadata": {},
   "outputs": [],
   "source": [
    "# plt.imshow(X[90000]) "
   ]
  },
  {
   "cell_type": "code",
   "execution_count": 33,
   "metadata": {},
   "outputs": [
    {
     "data": {
      "text/plain": [
       "'v'"
      ]
     },
     "execution_count": 33,
     "metadata": {},
     "output_type": "execute_result"
    }
   ],
   "source": [
    "for i in range(0,83):\n",
    "    if Y[90000][i] == 1:\n",
    "        wow = i\n",
    "        break\n",
    "symbols_list[wow]"
   ]
  },
  {
   "cell_type": "code",
   "execution_count": 242,
   "metadata": {},
   "outputs": [],
   "source": [
    "# Model"
   ]
  },
  {
   "cell_type": "code",
   "execution_count": 38,
   "metadata": {},
   "outputs": [],
   "source": [
    "from keras.models import Sequential\n",
    "from keras.layers import Dense, Dropout, Activation, Flatten\n",
    "from keras.layers import Conv2D, MaxPooling2D\n",
    "from keras.preprocessing.image import ImageDataGenerator, array_to_img, img_to_array, load_img\n",
    "from keras.callbacks import ModelCheckpoint"
   ]
  },
  {
   "cell_type": "code",
   "execution_count": 290,
   "metadata": {},
   "outputs": [],
   "source": [
    "model = Sequential()\n",
    "model.add(Conv2D(32, (3, 3), padding='same',\n",
    "                 input_shape=(TARGET_IMAGE_SIZE[0],TARGET_IMAGE_SIZE[1],1)))\n",
    "model.add(Activation('relu'))\n",
    "model.add(Conv2D(32, (3, 3)))\n",
    "model.add(Activation('relu'))\n",
    "model.add(MaxPooling2D(pool_size=(2, 2)))\n",
    "model.add(Dropout(0.25))\n",
    "\n",
    "model.add(Conv2D(64, (3, 3), padding='same'))\n",
    "model.add(Activation('relu'))\n",
    "model.add(Conv2D(64, (3, 3)))\n",
    "model.add(Activation('relu'))\n",
    "model.add(MaxPooling2D(pool_size=(2, 2)))\n",
    "model.add(Dropout(0.25))\n",
    "\n",
    "model.add(Flatten())\n",
    "model.add(Dense(512))\n",
    "model.add(Activation('relu'))\n",
    "model.add(Dropout(0.5))\n",
    "model.add(Dense(num_classes))\n",
    "model.add(Activation('softmax'))\n",
    "\n",
    "model.compile(loss='categorical_crossentropy',\n",
    "              optimizer='adam',\n",
    "              metrics=['accuracy'])"
   ]
  },
  {
   "cell_type": "code",
   "execution_count": 291,
   "metadata": {},
   "outputs": [
    {
     "name": "stdout",
     "output_type": "stream",
     "text": [
      "_________________________________________________________________\n",
      "Layer (type)                 Output Shape              Param #   \n",
      "=================================================================\n",
      "conv2d_53 (Conv2D)           (None, 30, 30, 32)        320       \n",
      "_________________________________________________________________\n",
      "activation_73 (Activation)   (None, 30, 30, 32)        0         \n",
      "_________________________________________________________________\n",
      "conv2d_54 (Conv2D)           (None, 28, 28, 32)        9248      \n",
      "_________________________________________________________________\n",
      "activation_74 (Activation)   (None, 28, 28, 32)        0         \n",
      "_________________________________________________________________\n",
      "max_pooling2d_25 (MaxPooling (None, 14, 14, 32)        0         \n",
      "_________________________________________________________________\n",
      "dropout_37 (Dropout)         (None, 14, 14, 32)        0         \n",
      "_________________________________________________________________\n",
      "conv2d_55 (Conv2D)           (None, 12, 12, 64)        18496     \n",
      "_________________________________________________________________\n",
      "activation_75 (Activation)   (None, 12, 12, 64)        0         \n",
      "_________________________________________________________________\n",
      "conv2d_56 (Conv2D)           (None, 10, 10, 64)        36928     \n",
      "_________________________________________________________________\n",
      "activation_76 (Activation)   (None, 10, 10, 64)        0         \n",
      "_________________________________________________________________\n",
      "max_pooling2d_26 (MaxPooling (None, 5, 5, 64)          0         \n",
      "_________________________________________________________________\n",
      "dropout_38 (Dropout)         (None, 5, 5, 64)          0         \n",
      "_________________________________________________________________\n",
      "flatten_13 (Flatten)         (None, 1600)              0         \n",
      "_________________________________________________________________\n",
      "dense_25 (Dense)             (None, 512)               819712    \n",
      "_________________________________________________________________\n",
      "activation_77 (Activation)   (None, 512)               0         \n",
      "_________________________________________________________________\n",
      "dropout_39 (Dropout)         (None, 512)               0         \n",
      "_________________________________________________________________\n",
      "dense_26 (Dense)             (None, 83)                42579     \n",
      "_________________________________________________________________\n",
      "activation_78 (Activation)   (None, 83)                0         \n",
      "=================================================================\n",
      "Total params: 927,283\n",
      "Trainable params: 927,283\n",
      "Non-trainable params: 0\n",
      "_________________________________________________________________\n"
     ]
    }
   ],
   "source": [
    "model.summary()"
   ]
  },
  {
   "cell_type": "code",
   "execution_count": 80,
   "metadata": {},
   "outputs": [],
   "source": [
    "X_train = format_train_for_keras_fit(X_train)\n",
    "X_test = format_train_for_keras_fit(X_test)"
   ]
  },
  {
   "cell_type": "code",
   "execution_count": 258,
   "metadata": {},
   "outputs": [],
   "source": [
    "checkpoints = ModelCheckpoint('../trained_models/model-epoch:{epoch:02d}-acc:{acc:.3f}-val_acc{val_acc:.3f}.hdf5',\n",
    "                              monitor='val_acc',\n",
    "                              verbose=1,\n",
    "                              save_best_only=True,\n",
    "                              save_weights_only=True,\n",
    "                              mode='max',\n",
    "                              period=1)"
   ]
  },
  {
   "cell_type": "code",
   "execution_count": 259,
   "metadata": {
    "collapsed": true
   },
   "outputs": [
    {
     "name": "stdout",
     "output_type": "stream",
     "text": [
      "Train on 263181 samples, validate on 112793 samples\n",
      "Epoch 1/10\n",
      "263181/263181 [==============================] - 40s 151us/step - loss: 0.6170 - acc: 0.8346 - val_loss: 0.2129 - val_acc: 0.9360\n",
      "\n",
      "Epoch 00001: val_acc improved from -inf to 0.93602, saving model to ../trained_models/model-epoch:01-acc:0.835-val_acc0.936.hdf5\n",
      "Epoch 2/10\n",
      "263181/263181 [==============================] - 40s 150us/step - loss: 0.2668 - acc: 0.9196 - val_loss: 0.1607 - val_acc: 0.9504\n",
      "\n",
      "Epoch 00002: val_acc improved from 0.93602 to 0.95040, saving model to ../trained_models/model-epoch:02-acc:0.920-val_acc0.950.hdf5\n",
      "Epoch 3/10\n",
      "263181/263181 [==============================] - 39s 150us/step - loss: 0.2155 - acc: 0.9331 - val_loss: 0.1322 - val_acc: 0.9587\n",
      "\n",
      "Epoch 00003: val_acc improved from 0.95040 to 0.95869, saving model to ../trained_models/model-epoch:03-acc:0.933-val_acc0.959.hdf5\n",
      "Epoch 4/10\n",
      "263181/263181 [==============================] - 40s 150us/step - loss: 0.1865 - acc: 0.9405 - val_loss: 0.1187 - val_acc: 0.9618\n",
      "\n",
      "Epoch 00004: val_acc improved from 0.95869 to 0.96181, saving model to ../trained_models/model-epoch:04-acc:0.940-val_acc0.962.hdf5\n",
      "Epoch 5/10\n",
      "263181/263181 [==============================] - 40s 150us/step - loss: 0.1673 - acc: 0.9458 - val_loss: 0.1061 - val_acc: 0.9663\n",
      "\n",
      "Epoch 00005: val_acc improved from 0.96181 to 0.96627, saving model to ../trained_models/model-epoch:05-acc:0.946-val_acc0.966.hdf5\n",
      "Epoch 6/10\n",
      "263181/263181 [==============================] - 40s 150us/step - loss: 0.1542 - acc: 0.9501 - val_loss: 0.0988 - val_acc: 0.9686\n",
      "\n",
      "Epoch 00006: val_acc improved from 0.96627 to 0.96861, saving model to ../trained_models/model-epoch:06-acc:0.950-val_acc0.969.hdf5\n",
      "Epoch 7/10\n",
      "263181/263181 [==============================] - 40s 150us/step - loss: 0.1419 - acc: 0.9535 - val_loss: 0.0943 - val_acc: 0.9701\n",
      "\n",
      "Epoch 00007: val_acc improved from 0.96861 to 0.97011, saving model to ../trained_models/model-epoch:07-acc:0.953-val_acc0.970.hdf5\n",
      "Epoch 8/10\n",
      "263181/263181 [==============================] - 39s 150us/step - loss: 0.1340 - acc: 0.9558 - val_loss: 0.0848 - val_acc: 0.9726\n",
      "\n",
      "Epoch 00008: val_acc improved from 0.97011 to 0.97262, saving model to ../trained_models/model-epoch:08-acc:0.956-val_acc0.973.hdf5\n",
      "Epoch 9/10\n",
      "263181/263181 [==============================] - 40s 150us/step - loss: 0.1260 - acc: 0.9583 - val_loss: 0.0818 - val_acc: 0.9741\n",
      "\n",
      "Epoch 00009: val_acc improved from 0.97262 to 0.97408, saving model to ../trained_models/model-epoch:09-acc:0.958-val_acc0.974.hdf5\n",
      "Epoch 10/10\n",
      "263181/263181 [==============================] - 40s 150us/step - loss: 0.1211 - acc: 0.9596 - val_loss: 0.0800 - val_acc: 0.9743\n",
      "\n",
      "Epoch 00010: val_acc improved from 0.97408 to 0.97427, saving model to ../trained_models/model-epoch:10-acc:0.960-val_acc0.974.hdf5\n"
     ]
    },
    {
     "data": {
      "text/plain": [
       "<keras.callbacks.History at 0x7efb14e9be80>"
      ]
     },
     "execution_count": 259,
     "metadata": {},
     "output_type": "execute_result"
    }
   ],
   "source": [
    "model.fit(\n",
    "    X_train,\n",
    "    y_train,\n",
    "    epochs=10,\n",
    "    batch_size=128,\n",
    "    validation_data=(X_test,y_test),\n",
    "    callbacks= [checkpoints]\n",
    ")"
   ]
  },
  {
   "cell_type": "code",
   "execution_count": 260,
   "metadata": {},
   "outputs": [],
   "source": [
    "# best model seems to be: model-epoch:06-acc:0.950-val_acc0.969.hd"
   ]
  },
  {
   "cell_type": "code",
   "execution_count": null,
   "metadata": {},
   "outputs": [],
   "source": []
  },
  {
   "cell_type": "code",
   "execution_count": null,
   "metadata": {},
   "outputs": [],
   "source": []
  },
  {
   "cell_type": "code",
   "execution_count": null,
   "metadata": {},
   "outputs": [],
   "source": []
  },
  {
   "cell_type": "code",
   "execution_count": 20,
   "metadata": {},
   "outputs": [],
   "source": [
    "def f(img):\n",
    "    img[img>0]=1\n",
    "    return img\n",
    "\n",
    "datagen = ImageDataGenerator(\n",
    "    preprocessing_function=f\n",
    ")"
   ]
  },
  {
   "cell_type": "code",
   "execution_count": 21,
   "metadata": {},
   "outputs": [
    {
     "name": "stdout",
     "output_type": "stream",
     "text": [
      "Found 751948 images belonging to 83 classes.\n"
     ]
    }
   ],
   "source": [
    "\n",
    "train_generator = datagen.flow_from_directory(\n",
    "        IMG_PATH,\n",
    "        classes=symbols_list,\n",
    "        color_mode='grayscale',\n",
    "        target_size=TARGET_IMAGE_SIZE,\n",
    "        batch_size=BATCH_SIZE\n",
    ")\n"
   ]
  },
  {
   "cell_type": "code",
   "execution_count": 64,
   "metadata": {},
   "outputs": [],
   "source": [
    "# model.fit_generator(\n",
    "#         train_generator,\n",
    "#         steps_per_epoch = 751948 // BATCH_SIZE,\n",
    "#         epochs=10\n",
    "# )"
   ]
  },
  {
   "cell_type": "code",
   "execution_count": 79,
   "metadata": {},
   "outputs": [],
   "source": [
    "def format_train_for_keras_fit(_X):\n",
    "     return np.transpose(_X.reshape(len(_X), TARGET_IMAGE_SIZE[0], TARGET_IMAGE_SIZE[1], 1), axes=[0,2,1,3])"
   ]
  },
  {
   "cell_type": "code",
   "execution_count": null,
   "metadata": {},
   "outputs": [],
   "source": []
  },
  {
   "cell_type": "code",
   "execution_count": 261,
   "metadata": {},
   "outputs": [],
   "source": [
    "layer_dict = dict([(layer.name, layer) for layer in model.layers])"
   ]
  },
  {
   "cell_type": "code",
   "execution_count": 262,
   "metadata": {},
   "outputs": [
    {
     "data": {
      "text/plain": [
       "{'activation_67': <keras.layers.core.Activation at 0x7efb198aae80>,\n",
       " 'activation_68': <keras.layers.core.Activation at 0x7efb198ac080>,\n",
       " 'activation_69': <keras.layers.core.Activation at 0x7efb198a4e48>,\n",
       " 'activation_70': <keras.layers.core.Activation at 0x7efb198befd0>,\n",
       " 'activation_71': <keras.layers.core.Activation at 0x7efb198192b0>,\n",
       " 'activation_72': <keras.layers.core.Activation at 0x7efb197cdd68>,\n",
       " 'conv2d_49': <keras.layers.convolutional.Conv2D at 0x7efb198aae10>,\n",
       " 'conv2d_50': <keras.layers.convolutional.Conv2D at 0x7efb198ac320>,\n",
       " 'conv2d_51': <keras.layers.convolutional.Conv2D at 0x7efb198a4470>,\n",
       " 'conv2d_52': <keras.layers.convolutional.Conv2D at 0x7efb198bef28>,\n",
       " 'dense_23': <keras.layers.core.Dense at 0x7efb19883c18>,\n",
       " 'dense_24': <keras.layers.core.Dense at 0x7efb19819240>,\n",
       " 'dropout_34': <keras.layers.core.Dropout at 0x7efb198a4048>,\n",
       " 'dropout_35': <keras.layers.core.Dropout at 0x7efb1986dba8>,\n",
       " 'dropout_36': <keras.layers.core.Dropout at 0x7efb197cd438>,\n",
       " 'flatten_12': <keras.layers.core.Flatten at 0x7efb19883710>,\n",
       " 'max_pooling2d_23': <keras.layers.pooling.MaxPooling2D at 0x7efb198acd30>,\n",
       " 'max_pooling2d_24': <keras.layers.pooling.MaxPooling2D at 0x7efb1986de80>}"
      ]
     },
     "execution_count": 262,
     "metadata": {},
     "output_type": "execute_result"
    }
   ],
   "source": [
    "layer_dict"
   ]
  },
  {
   "cell_type": "code",
   "execution_count": 285,
   "metadata": {},
   "outputs": [],
   "source": [
    "i_i = 60"
   ]
  },
  {
   "cell_type": "code",
   "execution_count": 286,
   "metadata": {},
   "outputs": [],
   "source": [
    "from keras.models import Model\n",
    "\n",
    "layer_outputs = [layer.output for layer in model.layers]\n",
    "activation_model = Model(inputs=model.input, outputs=layer_outputs)\n",
    "activations = activation_model.predict(X_train[i_i].reshape(1,32,32,1))\n",
    "\n",
    " \n",
    "def display_activation(activations, col_size, row_size, act_index): \n",
    "    activation = activations[act_index]\n",
    "    activation_index=0\n",
    "    fig, ax = plt.subplots(row_size, col_size, figsize=(row_size*2.5,col_size*1.5))\n",
    "    for row in range(0,row_size):\n",
    "        for col in range(0,col_size):\n",
    "            ax[row][col].imshow(activation[0, :, :, activation_index], cmap='gray')\n",
    "            activation_index += 1"
   ]
  },
  {
   "cell_type": "code",
   "execution_count": 287,
   "metadata": {},
   "outputs": [
    {
     "data": {
      "image/png": "[encoded data removed]",
      "text/plain": [
       "<Figure size 720x432 with 16 Axes>"
      ]
     },
     "metadata": {},
     "output_type": "display_data"
    }
   ],
   "source": [
    "display_activation(activations,4,4,5)"
   ]
  },
  {
   "cell_type": "code",
   "execution_count": 289,
   "metadata": {},
   "outputs": [
    {
     "data": {
      "text/plain": [
       "<matplotlib.image.AxesImage at 0x7efb101f37f0>"
      ]
     },
     "execution_count": 289,
     "metadata": {},
     "output_type": "execute_result"
    },
    {
     "data": {
      "image/png": "[encoded data removed]",
      "text/plain": [
       "<Figure size 432x288 with 1 Axes>"
      ]
     },
     "metadata": {},
     "output_type": "display_data"
    }
   ],
   "source": [
    "plt.imshow(X_train[i_i].reshape(32,32))"
   ]
  },
  {
   "cell_type": "markdown",
   "metadata": {},
   "source": [
    "# MLP"
   ]
  },
  {
   "cell_type": "code",
   "execution_count": null,
   "metadata": {},
   "outputs": [],
   "source": []
  },
  {
   "cell_type": "code",
   "execution_count": 50,
   "metadata": {},
   "outputs": [],
   "source": [
    "from keras.datasets import mnist\n",
    "from keras.models import Sequential\n",
    "from keras.layers import Dense, Dropout\n",
    "from keras.optimizers import RMSprop"
   ]
  },
  {
   "cell_type": "code",
   "execution_count": 61,
   "metadata": {},
   "outputs": [],
   "source": [
    "model = Sequential()\n",
    "model.add(Dense(768, activation='relu', input_shape=(1024,)))\n",
    "model.add(Dropout(0.2))\n",
    "model.add(Dense(512, activation='relu'))\n",
    "model.add(Dropout(0.2))\n",
    "model.add(Dense(num_classes, activation='softmax'))"
   ]
  },
  {
   "cell_type": "code",
   "execution_count": 62,
   "metadata": {},
   "outputs": [
    {
     "name": "stdout",
     "output_type": "stream",
     "text": [
      "_________________________________________________________________\n",
      "Layer (type)                 Output Shape              Param #   \n",
      "=================================================================\n",
      "dense_13 (Dense)             (None, 768)               787200    \n",
      "_________________________________________________________________\n",
      "dropout_9 (Dropout)          (None, 768)               0         \n",
      "_________________________________________________________________\n",
      "dense_14 (Dense)             (None, 512)               393728    \n",
      "_________________________________________________________________\n",
      "dropout_10 (Dropout)         (None, 512)               0         \n",
      "_________________________________________________________________\n",
      "dense_15 (Dense)             (None, 83)                42579     \n",
      "=================================================================\n",
      "Total params: 1,223,507\n",
      "Trainable params: 1,223,507\n",
      "Non-trainable params: 0\n",
      "_________________________________________________________________\n"
     ]
    }
   ],
   "source": [
    "model.summary()"
   ]
  },
  {
   "cell_type": "code",
   "execution_count": 63,
   "metadata": {},
   "outputs": [],
   "source": [
    "model.compile(loss='categorical_crossentropy',\n",
    "              optimizer='adam',\n",
    "              metrics=['accuracy'])"
   ]
  },
  {
   "cell_type": "code",
   "execution_count": 64,
   "metadata": {},
   "outputs": [],
   "source": [
    "checkpoints = ModelCheckpoint('../trained_models/mlp_model-epoch:{epoch:02d}-acc:{acc:.3f}-val_acc{val_acc:.3f}.hdf5',\n",
    "                              monitor='val_acc',\n",
    "                              verbose=1,\n",
    "                              save_best_only=True,\n",
    "                              save_weights_only=True,\n",
    "                              mode='max',\n",
    "                              period=1)"
   ]
  },
  {
   "cell_type": "code",
   "execution_count": 70,
   "metadata": {},
   "outputs": [
    {
     "name": "stdout",
     "output_type": "stream",
     "text": [
      "Train on 263181 samples, validate on 112793 samples\n",
      "Epoch 1/15\n",
      "263181/263181 [==============================] - 15s 56us/step - loss: 0.4560 - acc: 0.8624 - val_loss: 0.2764 - val_acc: 0.9184\n",
      "\n",
      "Epoch 00001: val_acc improved from 0.91255 to 0.91840, saving model to ../trained_models/mlp_model-epoch:01-acc:0.862-val_acc0.918.hdf5\n",
      "Epoch 2/15\n",
      "263181/263181 [==============================] - 15s 56us/step - loss: 0.4444 - acc: 0.8656 - val_loss: 0.2688 - val_acc: 0.9182\n",
      "\n",
      "Epoch 00002: val_acc did not improve from 0.91840\n",
      "Epoch 3/15\n",
      "263181/263181 [==============================] - 15s 56us/step - loss: 0.4400 - acc: 0.8666 - val_loss: 0.2628 - val_acc: 0.9197\n",
      "\n",
      "Epoch 00003: val_acc improved from 0.91840 to 0.91971, saving model to ../trained_models/mlp_model-epoch:03-acc:0.867-val_acc0.920.hdf5\n",
      "Epoch 4/15\n",
      "263181/263181 [==============================] - 15s 56us/step - loss: 0.4340 - acc: 0.8685 - val_loss: 0.2766 - val_acc: 0.9171\n",
      "\n",
      "Epoch 00004: val_acc did not improve from 0.91971\n",
      "Epoch 5/15\n",
      "263181/263181 [==============================] - 15s 56us/step - loss: 0.4286 - acc: 0.8708 - val_loss: 0.2537 - val_acc: 0.9239\n",
      "\n",
      "Epoch 00005: val_acc improved from 0.91971 to 0.92390, saving model to ../trained_models/mlp_model-epoch:05-acc:0.871-val_acc0.924.hdf5\n",
      "Epoch 6/15\n",
      "263181/263181 [==============================] - 15s 56us/step - loss: 0.4282 - acc: 0.8713 - val_loss: 0.2948 - val_acc: 0.9112\n",
      "\n",
      "Epoch 00006: val_acc did not improve from 0.92390\n",
      "Epoch 7/15\n",
      "263181/263181 [==============================] - 15s 56us/step - loss: 0.4274 - acc: 0.8709 - val_loss: 0.2628 - val_acc: 0.9211\n",
      "\n",
      "Epoch 00007: val_acc did not improve from 0.92390\n",
      "Epoch 8/15\n",
      "263181/263181 [==============================] - 15s 56us/step - loss: 0.4261 - acc: 0.8725 - val_loss: 0.2335 - val_acc: 0.9309\n",
      "\n",
      "Epoch 00008: val_acc improved from 0.92390 to 0.93094, saving model to ../trained_models/mlp_model-epoch:08-acc:0.873-val_acc0.931.hdf5\n",
      "Epoch 9/15\n",
      "263181/263181 [==============================] - 15s 56us/step - loss: 0.4170 - acc: 0.8735 - val_loss: 0.2659 - val_acc: 0.9180\n",
      "\n",
      "Epoch 00009: val_acc did not improve from 0.93094\n",
      "Epoch 10/15\n",
      "263181/263181 [==============================] - 15s 56us/step - loss: 0.4153 - acc: 0.8746 - val_loss: 0.2381 - val_acc: 0.9279\n",
      "\n",
      "Epoch 00010: val_acc did not improve from 0.93094\n",
      "Epoch 11/15\n",
      "263181/263181 [==============================] - 15s 56us/step - loss: 0.4119 - acc: 0.8765 - val_loss: 0.2664 - val_acc: 0.9182\n",
      "\n",
      "Epoch 00011: val_acc did not improve from 0.93094\n",
      "Epoch 12/15\n",
      "263181/263181 [==============================] - 15s 56us/step - loss: 0.4089 - acc: 0.8761 - val_loss: 0.2536 - val_acc: 0.9248\n",
      "\n",
      "Epoch 00012: val_acc did not improve from 0.93094\n",
      "Epoch 13/15\n",
      "263181/263181 [==============================] - 15s 56us/step - loss: 0.4050 - acc: 0.8776 - val_loss: 0.2160 - val_acc: 0.9338\n",
      "\n",
      "Epoch 00013: val_acc improved from 0.93094 to 0.93383, saving model to ../trained_models/mlp_model-epoch:13-acc:0.878-val_acc0.934.hdf5\n",
      "Epoch 14/15\n",
      "263181/263181 [==============================] - 15s 56us/step - loss: 0.4029 - acc: 0.8784 - val_loss: 0.2373 - val_acc: 0.9271\n",
      "\n",
      "Epoch 00014: val_acc did not improve from 0.93383\n",
      "Epoch 15/15\n",
      "263181/263181 [==============================] - 15s 56us/step - loss: 0.4091 - acc: 0.8766 - val_loss: 0.2372 - val_acc: 0.9285\n",
      "\n",
      "Epoch 00015: val_acc did not improve from 0.93383\n"
     ]
    }
   ],
   "source": [
    "history = model.fit(\n",
    "                X_train,\n",
    "                y_train,\n",
    "                epochs=15,\n",
    "                batch_size=128,\n",
    "                validation_data=(X_test,y_test),\n",
    "                callbacks= [checkpoints]\n",
    "            )"
   ]
  },
  {
   "cell_type": "code",
   "execution_count": 71,
   "metadata": {},
   "outputs": [],
   "source": [
    "def plot_history(history):\n",
    "    loss_list = [s for s in history.history.keys() if 'loss' in s and 'val' not in s]\n",
    "    val_loss_list = [s for s in history.history.keys() if 'loss' in s and 'val' in s]\n",
    "    acc_list = [s for s in history.history.keys() if 'acc' in s and 'val' not in s]\n",
    "    val_acc_list = [s for s in history.history.keys() if 'acc' in s and 'val' in s]\n",
    "    \n",
    "    if len(loss_list) == 0:\n",
    "        print('Loss is missing in history')\n",
    "        return \n",
    "    \n",
    "    ## As loss always exists\n",
    "    epochs = range(1,len(history.history[loss_list[0]]) + 1)\n",
    "    \n",
    "    ## Loss\n",
    "    plt.figure(1)\n",
    "    for l in loss_list:\n",
    "        plt.plot(epochs, history.history[l], 'b', label='Training loss (' + str(str(format(history.history[l][-1],'.5f'))+')'))\n",
    "    for l in val_loss_list:\n",
    "        plt.plot(epochs, history.history[l], 'g', label='Validation loss (' + str(str(format(history.history[l][-1],'.5f'))+')'))\n",
    "    \n",
    "    plt.title('Loss')\n",
    "    plt.xlabel('Epochs')\n",
    "    plt.ylabel('Loss')\n",
    "    plt.legend()\n",
    "    \n",
    "    ## Accuracy\n",
    "    plt.figure(2)\n",
    "    for l in acc_list:\n",
    "        plt.plot(epochs, history.history[l], 'b', label='Training accuracy (' + str(format(history.history[l][-1],'.5f'))+')')\n",
    "    for l in val_acc_list:    \n",
    "        plt.plot(epochs, history.history[l], 'g', label='Validation accuracy (' + str(format(history.history[l][-1],'.5f'))+')')\n",
    "\n",
    "    plt.title('Accuracy')\n",
    "    plt.xlabel('Epochs')\n",
    "    plt.ylabel('Accuracy')\n",
    "    plt.legend()\n",
    "    plt.show()"
   ]
  },
  {
   "cell_type": "code",
   "execution_count": 72,
   "metadata": {},
   "outputs": [
    {
     "data": {
      "image/png": "[encoded data removed]",
      "text/plain": [
       "<Figure size 432x288 with 1 Axes>"
      ]
     },
     "metadata": {},
     "output_type": "display_data"
    },
    {
     "data": {
      "image/png": "[encoded data removed]",
      "text/plain": [
       "<Figure size 432x288 with 1 Axes>"
      ]
     },
     "metadata": {},
     "output_type": "display_data"
    }
   ],
   "source": [
    "plot_history(history)"
   ]
  },
  {
   "cell_type": "markdown",
   "metadata": {},
   "source": [
    "## Shallow CNN"
   ]
  },
  {
   "cell_type": "code",
   "execution_count": null,
   "metadata": {},
   "outputs": [],
   "source": []
  },
  {
   "cell_type": "code",
   "execution_count": 81,
   "metadata": {},
   "outputs": [],
   "source": [
    "model = Sequential()\n",
    "model.add(Conv2D(32, kernel_size=(3, 3),\n",
    "                 activation='relu',\n",
    "                 input_shape=(TARGET_IMAGE_SIZE[0], TARGET_IMAGE_SIZE[1], 1)))\n",
    "model.add(Conv2D(64, (3, 3), activation='relu'))\n",
    "model.add(MaxPooling2D(pool_size=(2, 2)))\n",
    "model.add(Dropout(0.25))\n",
    "model.add(Flatten())\n",
    "model.add(Dense(128, activation='relu'))\n",
    "model.add(Dropout(0.5))\n",
    "model.add(Dense(num_classes, activation='softmax'))"
   ]
  },
  {
   "cell_type": "code",
   "execution_count": 82,
   "metadata": {},
   "outputs": [],
   "source": [
    "model.compile(loss='categorical_crossentropy',\n",
    "              optimizer='adam',\n",
    "              metrics=['accuracy'])"
   ]
  },
  {
   "cell_type": "code",
   "execution_count": 83,
   "metadata": {},
   "outputs": [],
   "source": [
    "checkpoints = ModelCheckpoint('../trained_models/small_cnn_model-epoch:{epoch:02d}-acc:{acc:.3f}-val_acc{val_acc:.3f}.hdf5',\n",
    "                              monitor='val_acc',\n",
    "                              verbose=1,\n",
    "                              save_best_only=True,\n",
    "                              save_weights_only=True,\n",
    "                              mode='max',\n",
    "                              period=1)"
   ]
  },
  {
   "cell_type": "code",
   "execution_count": 84,
   "metadata": {},
   "outputs": [
    {
     "name": "stdout",
     "output_type": "stream",
     "text": [
      "Train on 263181 samples, validate on 112793 samples\n",
      "Epoch 1/20\n",
      "263181/263181 [==============================] - 38s 146us/step - loss: 1.0925 - acc: 0.7154 - val_loss: 0.3866 - val_acc: 0.8868\n",
      "\n",
      "Epoch 00001: val_acc improved from -inf to 0.88677, saving model to ../trained_models/small_cnn_model-epoch:01-acc:0.715-val_acc0.887.hdf5\n",
      "Epoch 2/20\n",
      "263181/263181 [==============================] - 35s 133us/step - loss: 0.6349 - acc: 0.8178 - val_loss: 0.2811 - val_acc: 0.9188\n",
      "\n",
      "Epoch 00002: val_acc improved from 0.88677 to 0.91878, saving model to ../trained_models/small_cnn_model-epoch:02-acc:0.818-val_acc0.919.hdf5\n",
      "Epoch 3/20\n",
      "263181/263181 [==============================] - 35s 133us/step - loss: 0.5286 - acc: 0.8441 - val_loss: 0.2320 - val_acc: 0.9316\n",
      "\n",
      "Epoch 00003: val_acc improved from 0.91878 to 0.93163, saving model to ../trained_models/small_cnn_model-epoch:03-acc:0.844-val_acc0.932.hdf5\n",
      "Epoch 4/20\n",
      "263181/263181 [==============================] - 35s 133us/step - loss: 0.4610 - acc: 0.8612 - val_loss: 0.1937 - val_acc: 0.9433\n",
      "\n",
      "Epoch 00004: val_acc improved from 0.93163 to 0.94335, saving model to ../trained_models/small_cnn_model-epoch:04-acc:0.861-val_acc0.943.hdf5\n",
      "Epoch 5/20\n",
      "263181/263181 [==============================] - 35s 134us/step - loss: 0.4138 - acc: 0.8732 - val_loss: 0.1731 - val_acc: 0.9477\n",
      "\n",
      "Epoch 00005: val_acc improved from 0.94335 to 0.94774, saving model to ../trained_models/small_cnn_model-epoch:05-acc:0.873-val_acc0.948.hdf5\n",
      "Epoch 6/20\n",
      "263181/263181 [==============================] - 35s 134us/step - loss: 0.3727 - acc: 0.8840 - val_loss: 0.1574 - val_acc: 0.9529\n",
      "\n",
      "Epoch 00006: val_acc improved from 0.94774 to 0.95293, saving model to ../trained_models/small_cnn_model-epoch:06-acc:0.884-val_acc0.953.hdf5\n",
      "Epoch 7/20\n",
      "263181/263181 [==============================] - 35s 134us/step - loss: 0.3363 - acc: 0.8941 - val_loss: 0.1381 - val_acc: 0.9591\n",
      "\n",
      "Epoch 00007: val_acc improved from 0.95293 to 0.95907, saving model to ../trained_models/small_cnn_model-epoch:07-acc:0.894-val_acc0.959.hdf5\n",
      "Epoch 8/20\n",
      "263181/263181 [==============================] - 35s 134us/step - loss: 0.3108 - acc: 0.9017 - val_loss: 0.1243 - val_acc: 0.9633\n",
      "\n",
      "Epoch 00008: val_acc improved from 0.95907 to 0.96325, saving model to ../trained_models/small_cnn_model-epoch:08-acc:0.902-val_acc0.963.hdf5\n",
      "Epoch 9/20\n",
      "263181/263181 [==============================] - 36s 135us/step - loss: 0.2922 - acc: 0.9065 - val_loss: 0.1151 - val_acc: 0.9667\n",
      "\n",
      "Epoch 00009: val_acc improved from 0.96325 to 0.96674, saving model to ../trained_models/small_cnn_model-epoch:09-acc:0.906-val_acc0.967.hdf5\n",
      "Epoch 10/20\n",
      "263181/263181 [==============================] - 36s 135us/step - loss: 0.2740 - acc: 0.9120 - val_loss: 0.1056 - val_acc: 0.9693\n",
      "\n",
      "Epoch 00010: val_acc improved from 0.96674 to 0.96932, saving model to ../trained_models/small_cnn_model-epoch:10-acc:0.912-val_acc0.969.hdf5\n",
      "Epoch 11/20\n",
      "263181/263181 [==============================] - 36s 135us/step - loss: 0.2612 - acc: 0.9157 - val_loss: 0.1015 - val_acc: 0.9712\n",
      "\n",
      "Epoch 00011: val_acc improved from 0.96932 to 0.97124, saving model to ../trained_models/small_cnn_model-epoch:11-acc:0.916-val_acc0.971.hdf5\n",
      "Epoch 12/20\n",
      "263181/263181 [==============================] - 36s 136us/step - loss: 0.2467 - acc: 0.9197 - val_loss: 0.0936 - val_acc: 0.9728\n",
      "\n",
      "Epoch 00012: val_acc improved from 0.97124 to 0.97278, saving model to ../trained_models/small_cnn_model-epoch:12-acc:0.920-val_acc0.973.hdf5\n",
      "Epoch 13/20\n",
      "263181/263181 [==============================] - 36s 136us/step - loss: 0.2361 - acc: 0.9230 - val_loss: 0.0911 - val_acc: 0.9739\n",
      "\n",
      "Epoch 00013: val_acc improved from 0.97278 to 0.97386, saving model to ../trained_models/small_cnn_model-epoch:13-acc:0.923-val_acc0.974.hdf5\n",
      "Epoch 14/20\n",
      "263181/263181 [==============================] - 36s 136us/step - loss: 0.2261 - acc: 0.9265 - val_loss: 0.0863 - val_acc: 0.9755\n",
      "\n",
      "Epoch 00014: val_acc improved from 0.97386 to 0.97549, saving model to ../trained_models/small_cnn_model-epoch:14-acc:0.926-val_acc0.975.hdf5\n",
      "Epoch 15/20\n",
      "263181/263181 [==============================] - 36s 136us/step - loss: 0.2171 - acc: 0.9285 - val_loss: 0.0866 - val_acc: 0.9761\n",
      "\n",
      "Epoch 00015: val_acc improved from 0.97549 to 0.97609, saving model to ../trained_models/small_cnn_model-epoch:15-acc:0.929-val_acc0.976.hdf5\n",
      "Epoch 16/20\n",
      "263181/263181 [==============================] - 36s 137us/step - loss: 0.2105 - acc: 0.9314 - val_loss: 0.0782 - val_acc: 0.9784\n",
      "\n",
      "Epoch 00016: val_acc improved from 0.97609 to 0.97838, saving model to ../trained_models/small_cnn_model-epoch:16-acc:0.931-val_acc0.978.hdf5\n",
      "Epoch 17/20\n",
      "263181/263181 [==============================] - 36s 136us/step - loss: 0.2056 - acc: 0.9325 - val_loss: 0.0749 - val_acc: 0.9793\n",
      "\n",
      "Epoch 00017: val_acc improved from 0.97838 to 0.97927, saving model to ../trained_models/small_cnn_model-epoch:17-acc:0.933-val_acc0.979.hdf5\n",
      "Epoch 18/20\n",
      "263181/263181 [==============================] - 36s 137us/step - loss: 0.1967 - acc: 0.9356 - val_loss: 0.0718 - val_acc: 0.9805\n",
      "\n",
      "Epoch 00018: val_acc improved from 0.97927 to 0.98055, saving model to ../trained_models/small_cnn_model-epoch:18-acc:0.936-val_acc0.981.hdf5\n",
      "Epoch 19/20\n",
      "263181/263181 [==============================] - 36s 136us/step - loss: 0.1915 - acc: 0.9374 - val_loss: 0.0709 - val_acc: 0.9806\n",
      "\n",
      "Epoch 00019: val_acc improved from 0.98055 to 0.98057, saving model to ../trained_models/small_cnn_model-epoch:19-acc:0.937-val_acc0.981.hdf5\n",
      "Epoch 20/20\n",
      "263181/263181 [==============================] - 36s 137us/step - loss: 0.1866 - acc: 0.9391 - val_loss: 0.0660 - val_acc: 0.9816\n",
      "\n",
      "Epoch 00020: val_acc improved from 0.98057 to 0.98158, saving model to ../trained_models/small_cnn_model-epoch:20-acc:0.939-val_acc0.982.hdf5\n"
     ]
    }
   ],
   "source": [
    "history = model.fit(\n",
    "                X_train,\n",
    "                y_train,\n",
    "                epochs=20,\n",
    "                batch_size=128,\n",
    "                validation_data=(X_test,y_test),\n",
    "                callbacks= [checkpoints]\n",
    "            )"
   ]
  },
  {
   "cell_type": "code",
   "execution_count": 85,
   "metadata": {},
   "outputs": [
    {
     "data": {
      "image/png": "[encoded data removed]",
      "text/plain": [
       "<Figure size 432x288 with 1 Axes>"
      ]
     },
     "metadata": {},
     "output_type": "display_data"
    },
    {
     "data": {
      "image/png": "[encoded data removed]",
      "text/plain": [
       "<Figure size 432x288 with 1 Axes>"
      ]
     },
     "metadata": {},
     "output_type": "display_data"
    }
   ],
   "source": [
    "plot_history(history)"
   ]
  },
  {
   "cell_type": "code",
   "execution_count": null,
   "metadata": {},
   "outputs": [],
   "source": []
  }
 ],
 "metadata": {
  "kernelspec": {
   "display_name": "Python 3",
   "language": "python",
   "name": "python3"
  },
  "language_info": {
   "codemirror_mode": {
    "name": "ipython",
    "version": 3
   },
   "file_extension": ".py",
   "mimetype": "text/x-python",
   "name": "python",
   "nbconvert_exporter": "python",
   "pygments_lexer": "ipython3",
   "version": "3.5.2"
  }
 },
 "nbformat": 4,
 "nbformat_minor": 2
}
